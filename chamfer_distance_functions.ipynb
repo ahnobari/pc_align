{
 "cells": [
  {
   "cell_type": "code",
   "execution_count": 1,
   "metadata": {},
   "outputs": [
    {
     "name": "stderr",
     "output_type": "stream",
     "text": [
      "/home/amin/miniforge3/envs/spatial/lib/python3.10/site-packages/traittypes/traittypes.py:97: UserWarning: Given trait value dtype \"float64\" does not match required type \"float32\". A coerced copy has been created.\n",
      "  warnings.warn(\n"
     ]
    },
    {
     "data": {
      "application/vnd.jupyter.widget-view+json": {
       "model_id": "9291f11981d147e5b7eec2d8baf258a4",
       "version_major": 2,
       "version_minor": 0
      },
      "text/plain": [
       "Output()"
      ]
     },
     "metadata": {},
     "output_type": "display_data"
    }
   ],
   "source": [
    "import k3d\n",
    "import numpy as np\n",
    "import trimesh\n",
    "from FastSpatial import *\n",
    "from scipy.stats import special_ortho_group\n",
    "import ipywidgets as widgets\n",
    "\n",
    "import os\n",
    "\n",
    "\n",
    "# Load a point cloud from a file (e.g., .ply, .xyz, .pcd)\n",
    "file_name = '771.ply'\n",
    "point_cloud_gt = trimesh.load(f\"./examples/ground_truth/{file_name}\")\n",
    "point_cloud_1 = trimesh.load(f\"./examples/model1/{file_name}\")\n",
    "point_cloud_2 = trimesh.load(f\"./examples/model2/{file_name}\")\n",
    "\n",
    "points_gt = np.array(point_cloud_gt.vertices, dtype=np.float64)\n",
    "points_1 = np.array(point_cloud_1.vertices, dtype=np.float64)\n",
    "points_2 = np.array(point_cloud_2.vertices, dtype=np.float64)\n",
    "\n",
    "# apply some random rotation to the point clouds\n",
    "points_gt = points_gt @ special_ortho_group.rvs(3).T\n",
    "points_1 = points_1 @ special_ortho_group.rvs(3).T\n",
    "points_2 = points_2 @ special_ortho_group.rvs(3).T\n",
    "\n",
    "pc_gt = k3d.points(points_gt, point_size=0.005 * (points_gt.max() - points_gt.min()), color=0x00ff88)\n",
    "pc_1 = k3d.points(points_1,  point_size=0.005 * (points_1.max() - points_1.min()), color=0xff0000)\n",
    "pc_2 = k3d.points(points_2, point_size=0.005 * (points_2.max() - points_2.min()), color=0x0000ff)\n",
    "\n",
    "plot = k3d.plot(grid_visible=False)\n",
    "plot += pc_gt\n",
    "plot += pc_1\n",
    "plot += pc_2\n",
    "plot.display()"
   ]
  },
  {
   "cell_type": "code",
   "execution_count": 2,
   "metadata": {},
   "outputs": [
    {
     "data": {
      "application/vnd.jupyter.widget-view+json": {
       "model_id": "4b8c40cd9b4f4d8cad10ece4fbb31f79",
       "version_major": 2,
       "version_minor": 0
      },
      "text/plain": [
       "Output()"
      ]
     },
     "metadata": {},
     "output_type": "display_data"
    }
   ],
   "source": [
    "# normalize the point clouds and visualize again\n",
    "points_gt_normalized = procrustes(points_gt[None])[0][0]\n",
    "points_1_normalized = procrustes(points_1[None])[0][0]\n",
    "points_2_normalized = procrustes(points_2[None])[0][0]\n",
    "\n",
    "principal_gt = principal_axes(points_gt_normalized[None])[0]\n",
    "principal_1 = principal_axes(points_1_normalized[None])[0]\n",
    "principal_2 = principal_axes(points_2_normalized[None])[0]\n",
    "\n",
    "plot = k3d.plot(grid_visible=False)\n",
    "plot += k3d.points(points_gt_normalized, point_size=0.05, color=0x00ff88)\n",
    "plot += k3d.points(points_1_normalized, point_size=0.05, color=0xff0000)\n",
    "plot += k3d.points(points_2_normalized, point_size=0.05, color=0x0000ff)\n",
    "\n",
    "plot.display()"
   ]
  },
  {
   "cell_type": "code",
   "execution_count": 3,
   "metadata": {},
   "outputs": [
    {
     "data": {
      "application/vnd.jupyter.widget-view+json": {
       "model_id": "84a0dc4080f646d99f725239b46ca629",
       "version_major": 2,
       "version_minor": 0
      },
      "text/plain": [
       "HBox(children=(Plot(antialias=3, axes=['x', 'y', 'z'], axes_helper=1.0, axes_helper_colors=[16711680, 65280, 2…"
      ]
     },
     "execution_count": 3,
     "metadata": {},
     "output_type": "execute_result"
    }
   ],
   "source": [
    "# plot each point cloud with its principal axes\n",
    "plot1 = k3d.plot(grid_visible=False)\n",
    "plot1 += k3d.points(points_gt_normalized, point_size=0.05, color=0x00ff88)\n",
    "\n",
    "for i in range(3):\n",
    "    plot1 += k3d.line([np.zeros(3), principal_gt[i]*4], color=0x00ff88, width=0.05)\n",
    "plot1.layout.width = '30%'\n",
    "# plot.display()\n",
    "\n",
    "plot2 = k3d.plot(grid_visible=False)\n",
    "plot2 += k3d.points(points_1_normalized, point_size=0.05, color=0xff0000)\n",
    "\n",
    "for i in range(3):\n",
    "    plot2 += k3d.line([np.zeros(3), principal_1[i]*4], color=0xff0000, width=0.05)\n",
    "plot2.layout.width = '30%'\n",
    "\n",
    "plot3 = k3d.plot(grid_visible=False)\n",
    "plot3 += k3d.points(points_2_normalized, point_size=0.05, color=0x0000ff)\n",
    "\n",
    "for i in range(3):\n",
    "    plot3 += k3d.line([np.zeros(3), principal_2[i]*4], color=0x0000ff, width=0.05)\n",
    "plot3.layout.width = '30%'\n",
    "\n",
    "widgets.HBox([plot1, plot2, plot3])"
   ]
  },
  {
   "cell_type": "code",
   "execution_count": 4,
   "metadata": {},
   "outputs": [
    {
     "data": {
      "application/vnd.jupyter.widget-view+json": {
       "model_id": "901adc902b1f4e0a9c7388a9c8d404b7",
       "version_major": 2,
       "version_minor": 0
      },
      "text/plain": [
       "HBox(children=(Plot(antialias=3, axes=['x', 'y', 'z'], axes_helper=1.0, axes_helper_colors=[16711680, 65280, 2…"
      ]
     },
     "execution_count": 4,
     "metadata": {},
     "output_type": "execute_result"
    }
   ],
   "source": [
    "# align the point clouds and visualize again\n",
    "points_1_aligned, normalized_cd_1 = align_clouds(points_1, points_gt, normalize=True)\n",
    "points_2_aligned, normalized_cd_2 = align_clouds(points_2, points_gt, normalize=True)\n",
    "\n",
    "point_size = 0.01 * (points_gt.max() - points_gt.min())\n",
    "\n",
    "plot1 = k3d.plot(grid_visible=False)\n",
    "plot1 += k3d.points(points_gt, point_size=point_size, color=0x00ff88)\n",
    "plot1 += k3d.points(points_1_aligned, point_size=point_size, color=0xff0000)\n",
    "plot1 += k3d.text('Normalized CD: {:.4f}'.format(normalized_cd_1), position=[0, 0, 0], color=0x000000)\n",
    "plot1.layout.width = '50%'\n",
    "\n",
    "plot2 = k3d.plot(grid_visible=False)\n",
    "plot2 += k3d.points(points_gt, point_size=point_size, color=0x00ff88)\n",
    "plot2 += k3d.points(points_2_aligned, point_size=point_size, color=0x0000ff)\n",
    "plot2 += k3d.text('Normalized CD: {:.4f}'.format(normalized_cd_2), position=[0, 0, 0], color=0x000000)\n",
    "plot2.layout.width = '50%'\n",
    "\n",
    "widgets.HBox([plot1, plot2])\n"
   ]
  }
 ],
 "metadata": {
  "kernelspec": {
   "display_name": "spatial",
   "language": "python",
   "name": "python3"
  },
  "language_info": {
   "codemirror_mode": {
    "name": "ipython",
    "version": 3
   },
   "file_extension": ".py",
   "mimetype": "text/x-python",
   "name": "python",
   "nbconvert_exporter": "python",
   "pygments_lexer": "ipython3",
   "version": "3.10.16"
  }
 },
 "nbformat": 4,
 "nbformat_minor": 2
}
